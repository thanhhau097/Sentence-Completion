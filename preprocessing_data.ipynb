{
 "cells": [
  {
   "cell_type": "code",
   "execution_count": 7,
   "metadata": {
    "collapsed": true
   },
   "outputs": [],
   "source": [
    "file_path = '/Users/macos/Desktop/School/20172/Project 2/result.txt'\n",
    "result_path = '/Users/macos/Desktop/School/20172/Project 2/input_test.txt'\n",
    "result_path2 = '/Users/macos/Desktop/School/20172/Project 2/input_test_2.txt'\n",
    "test_path = '/Users/macos/Desktop/School/20172/Project 2/test/test.txt'\n",
    "test_result_path = '/Users/macos/Desktop/School/20172/Project 2/test/test_result.txt'\n",
    "lines = []"
   ]
  },
  {
   "cell_type": "code",
   "execution_count": 2,
   "metadata": {
    "collapsed": true
   },
   "outputs": [],
   "source": [
    "def preprocess_sentence(sentence):\n",
    "    marks = ['.', ',', '\\n', '?', '!', '-', '(', ')', '/']\n",
    "    specials = ['\\xa0']\n",
    "    for mark in marks:\n",
    "        sentence = sentence.replace(mark, '')\n",
    "    for special in specials:\n",
    "        sentence = sentence.replace(special, ' ')\n",
    "    return sentence"
   ]
  },
  {
   "cell_type": "code",
   "execution_count": 3,
   "metadata": {
    "collapsed": true
   },
   "outputs": [],
   "source": [
    "def get_sentence_vector(sentence):\n",
    "    sentence_vector = []\n",
    "    tokens = set(sentence.split(' '))\n",
    "    for token in tokens:\n",
    "        if token in vocab:\n",
    "            sentence_vector.append(model[token])\n",
    "    return sentence_vector"
   ]
  },
  {
   "cell_type": "code",
   "execution_count": 4,
   "metadata": {
    "collapsed": true
   },
   "outputs": [],
   "source": [
    "def get_sentence_vector_with_array(tokens):\n",
    "    for token in tokens:\n",
    "        if token in vocab:\n",
    "            sentence_vector.append(model[token])\n",
    "    return sentence_vector"
   ]
  },
  {
   "cell_type": "code",
   "execution_count": 6,
   "metadata": {
    "collapsed": true
   },
   "outputs": [],
   "source": [
    "blank = '___'\n",
    "CONTEXT_SIZE = 5"
   ]
  },
  {
   "cell_type": "code",
   "execution_count": 8,
   "metadata": {
    "collapsed": false
   },
   "outputs": [],
   "source": [
    "def get_test_file(path, path_result):\n",
    "    with open(path, 'r') as file1:\n",
    "        lines = file1.readlines()\n",
    "        with open(path_result, 'a') as file2:\n",
    "            orginal_line = ''\n",
    "            for i in range(len(lines)):\n",
    "                if (i % 6 == 0):\n",
    "                    orginal_line = lines[i]\n",
    "                elif (i % 6 != 5):\n",
    "                    new_line = preprocess_sentence(lines[i])\n",
    "                    new_line = orginal_line.replace(blank, new_line)\n",
    "                    file2.write(new_line)\n",
    "                    print(new_line)"
   ]
  },
  {
   "cell_type": "code",
   "execution_count": 9,
   "metadata": {
    "collapsed": false
   },
   "outputs": [
    {
     "name": "stdout",
     "output_type": "stream",
     "text": [
      "Creativity and productivity can be increased if our employees are able to spend least time doing repetitive and routine tasks\n",
      "\n",
      "Creativity and productivity can be increased if our employees are able to spend less time doing repetitive and routine tasks\n",
      "\n",
      "Creativity and productivity can be increased if our employees are able to spend lesser time doing repetitive and routine tasks\n",
      "\n",
      "Creativity and productivity can be increased if our employees are able to spend lessen time doing repetitive and routine tasks\n",
      "\n"
     ]
    }
   ],
   "source": [
    "get_test_file(test_path, test_result_path)"
   ]
  },
  {
   "cell_type": "code",
   "execution_count": null,
   "metadata": {
    "collapsed": true
   },
   "outputs": [],
   "source": [
    "with open(file_path, 'r') as file1:\n",
    "        lines = file1.readlines()\n",
    "        with open(result_path, 'a') as file2:\n",
    "            orginal_line = ''\n",
    "            for i in range(len(lines)):\n",
    "                if (i % 6 == 0):\n",
    "                    orginal_line = lines[i]\n",
    "                elif (i % 6 != 5):\n",
    "                    new_line = preprocess_sentence(lines[i])\n",
    "                    new_line = orginal_line.replace(blank, new_line)\n",
    "                    file2.write(new_line)\n",
    "                    print(new_line)"
   ]
  },
  {
   "cell_type": "code",
   "execution_count": null,
   "metadata": {
    "collapsed": true
   },
   "outputs": [],
   "source": [
    "with open(file_path, 'r') as file:\n",
    "    lines = file.readlines()\n",
    "    for i in range(len(lines)):\n",
    "        if (i % 6 == 0):\n",
    "            line = preprocess_sentence(lines[i])\n",
    "            arr = line.split(' ')\n",
    "#             print(arr.index('___'))\n",
    "            print(\"****in\", arr.index('___'))"
   ]
  },
  {
   "cell_type": "code",
   "execution_count": 46,
   "metadata": {
    "collapsed": true
   },
   "outputs": [],
   "source": [
    "def get_max_index(arr):\n",
    "    arr = np.reshape(arr, newshape=[-1, 4])\n",
    "    m = np.max(arr, axis=1, keepdims=True)\n",
    "    one_hot = arr // m\n",
    "    result = np.argmax(one_hot, axis=1)\n",
    "    return result"
   ]
  },
  {
   "cell_type": "code",
   "execution_count": 43,
   "metadata": {
    "collapsed": false
   },
   "outputs": [],
   "source": [
    "import numpy as np\n",
    "arr_test_loss = np.load('/Users/macos/Downloads/arr_test_loss.npy')"
   ]
  },
  {
   "cell_type": "code",
   "execution_count": 45,
   "metadata": {
    "collapsed": true
   },
   "outputs": [],
   "source": [
    "new_arr = 1 / arr_test_loss"
   ]
  },
  {
   "cell_type": "code",
   "execution_count": 55,
   "metadata": {
    "collapsed": false
   },
   "outputs": [],
   "source": [
    "new_arr = 1 / arr_test_loss\n",
    "predict_answer = np.array(get_max_index(new_arr))"
   ]
  },
  {
   "cell_type": "code",
   "execution_count": 56,
   "metadata": {
    "collapsed": false
   },
   "outputs": [],
   "source": [
    "with open(file_path, 'r') as file:\n",
    "    lines = file.readlines()\n",
    "    arr_ans = []\n",
    "    for i in range(len(lines) // 6):\n",
    "        line1 = preprocess_sentence(lines[i * 6 + 1])\n",
    "        line2 = preprocess_sentence(lines[i * 6 + 2])\n",
    "        line3 = preprocess_sentence(lines[i * 6 + 3])\n",
    "        line4 = preprocess_sentence(lines[i * 6 + 4])\n",
    "        line5 = preprocess_sentence(lines[i * 6 + 5])\n",
    "        ans = 0\n",
    "        if line1 == line5:\n",
    "            ans = 0\n",
    "        elif line2 == line5:\n",
    "            ans = 1\n",
    "        elif line3 == line5:\n",
    "            ans = 2\n",
    "        else:\n",
    "            ans = 3\n",
    "        arr_ans.append(ans)\n",
    "    arr_ans = np.array(arr_ans)"
   ]
  },
  {
   "cell_type": "code",
   "execution_count": 61,
   "metadata": {
    "collapsed": true
   },
   "outputs": [],
   "source": [
    "np.save('/Users/macos/Desktop/arr_ans.npy', arr_ans)"
   ]
  },
  {
   "cell_type": "code",
   "execution_count": null,
   "metadata": {
    "collapsed": true
   },
   "outputs": [],
   "source": []
  }
 ],
 "metadata": {
  "kernelspec": {
   "display_name": "Python 3",
   "language": "python",
   "name": "python3"
  },
  "language_info": {
   "codemirror_mode": {
    "name": "ipython",
    "version": 3
   },
   "file_extension": ".py",
   "mimetype": "text/x-python",
   "name": "python",
   "nbconvert_exporter": "python",
   "pygments_lexer": "ipython3",
   "version": "3.6.1"
  }
 },
 "nbformat": 4,
 "nbformat_minor": 0
}
