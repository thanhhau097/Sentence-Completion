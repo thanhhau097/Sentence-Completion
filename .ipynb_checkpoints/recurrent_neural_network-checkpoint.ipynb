{
 "cells": [
  {
   "cell_type": "code",
   "execution_count": 6,
   "metadata": {
    "colab": {
     "autoexec": {
      "startup": false,
      "wait_interval": 0
     },
     "base_uri": "https://localhost:8080/",
     "height": 106
    },
    "colab_type": "code",
    "collapsed": true,
    "executionInfo": {
     "elapsed": 15749,
     "status": "ok",
     "timestamp": 1527686498392,
     "user": {
      "displayName": "Nguyễn Thành Hậu",
      "photoUrl": "https://lh3.googleusercontent.com/a/default-user=s128",
      "userId": "104616497617342567774"
     },
     "user_tz": -420
    },
    "id": "VcvAfrVFt7gx",
    "outputId": "35381726-4bfd-4070-f79b-1c4e2d31033e"
   },
   "outputs": [
    {
     "name": "stdout",
     "output_type": "stream",
     "text": [
      "Please, open the following URL in a web browser: https://accounts.google.com/o/oauth2/auth?client_id=32555940559.apps.googleusercontent.com&redirect_uri=urn%3Aietf%3Awg%3Aoauth%3A2.0%3Aoob&scope=https%3A%2F%2Fwww.googleapis.com%2Fauth%2Fdrive&response_type=code&access_type=offline&approval_prompt=force\r\n",
      "··········\n",
      "Please, open the following URL in a web browser: https://accounts.google.com/o/oauth2/auth?client_id=32555940559.apps.googleusercontent.com&redirect_uri=urn%3Aietf%3Awg%3Aoauth%3A2.0%3Aoob&scope=https%3A%2F%2Fwww.googleapis.com%2Fauth%2Fdrive&response_type=code&access_type=offline&approval_prompt=force\n",
      "Please enter the verification code: Access token retrieved correctly.\n"
     ]
    }
   ],
   "source": [
    "!apt-get install -y -qq software-properties-common python-software-properties module-init-tools\n",
    "!add-apt-repository -y ppa:alessandro-strada/ppa 2>&1 > /dev/null\n",
    "!apt-get update -qq 2>&1 > /dev/null\n",
    "!apt-get -y install -qq google-drive-ocamlfuse fuse\n",
    "from google.colab import auth\n",
    "auth.authenticate_user()\n",
    "from oauth2client.client import GoogleCredentials\n",
    "creds = GoogleCredentials.get_application_default()\n",
    "import getpass\n",
    "!google-drive-ocamlfuse -headless -id={creds.client_id} -secret={creds.client_secret} < /dev/null 2>&1 | grep URL\n",
    "vcode = getpass.getpass()\n",
    "!echo {vcode} | google-drive-ocamlfuse -headless -id={creds.client_id} -secret={creds.client_secret}"
   ]
  },
  {
   "cell_type": "code",
   "execution_count": 0,
   "metadata": {
    "colab": {
     "autoexec": {
      "startup": false,
      "wait_interval": 0
     }
    },
    "colab_type": "code",
    "collapsed": true,
    "id": "Jn_-49H4t8Tn"
   },
   "outputs": [],
   "source": [
    "!mkdir -p drive\n",
    "!google-drive-ocamlfuse drive"
   ]
  },
  {
   "cell_type": "code",
   "execution_count": 8,
   "metadata": {
    "colab": {
     "autoexec": {
      "startup": false,
      "wait_interval": 0
     },
     "base_uri": "https://localhost:8080/",
     "height": 348
    },
    "colab_type": "code",
    "collapsed": true,
    "executionInfo": {
     "elapsed": 3017,
     "status": "ok",
     "timestamp": 1527686511062,
     "user": {
      "displayName": "Nguyễn Thành Hậu",
      "photoUrl": "https://lh3.googleusercontent.com/a/default-user=s128",
      "userId": "104616497617342567774"
     },
     "user_tz": -420
    },
    "id": "4c4KvBGCt8V7",
    "outputId": "67215290-9749-4a8b-b8c8-04e0c3f69510"
   },
   "outputs": [
    {
     "name": "stdout",
     "output_type": "stream",
     "text": [
      "Requirement already satisfied: gensim in /usr/local/lib/python3.6/dist-packages (3.4.0)\n",
      "Requirement already satisfied: scipy>=0.18.1 in /usr/local/lib/python3.6/dist-packages (from gensim) (0.19.1)\n",
      "Requirement already satisfied: six>=1.5.0 in /usr/local/lib/python3.6/dist-packages (from gensim) (1.11.0)\n",
      "Requirement already satisfied: smart-open>=1.2.1 in /usr/local/lib/python3.6/dist-packages (from gensim) (1.5.7)\n",
      "Requirement already satisfied: numpy>=1.11.3 in /usr/local/lib/python3.6/dist-packages (from gensim) (1.14.3)\n",
      "Requirement already satisfied: boto3 in /usr/local/lib/python3.6/dist-packages (from smart-open>=1.2.1->gensim) (1.7.29)\n",
      "Requirement already satisfied: requests in /usr/local/lib/python3.6/dist-packages (from smart-open>=1.2.1->gensim) (2.18.4)\n",
      "Requirement already satisfied: bz2file in /usr/local/lib/python3.6/dist-packages (from smart-open>=1.2.1->gensim) (0.98)\n",
      "Requirement already satisfied: boto>=2.32 in /usr/local/lib/python3.6/dist-packages (from smart-open>=1.2.1->gensim) (2.48.0)\n",
      "Requirement already satisfied: botocore<1.11.0,>=1.10.29 in /usr/local/lib/python3.6/dist-packages (from boto3->smart-open>=1.2.1->gensim) (1.10.29)\n",
      "Requirement already satisfied: jmespath<1.0.0,>=0.7.1 in /usr/local/lib/python3.6/dist-packages (from boto3->smart-open>=1.2.1->gensim) (0.9.3)\n",
      "Requirement already satisfied: s3transfer<0.2.0,>=0.1.10 in /usr/local/lib/python3.6/dist-packages (from boto3->smart-open>=1.2.1->gensim) (0.1.13)\n",
      "Requirement already satisfied: urllib3<1.23,>=1.21.1 in /usr/local/lib/python3.6/dist-packages (from requests->smart-open>=1.2.1->gensim) (1.22)\n",
      "Requirement already satisfied: idna<2.7,>=2.5 in /usr/local/lib/python3.6/dist-packages (from requests->smart-open>=1.2.1->gensim) (2.6)\n",
      "Requirement already satisfied: chardet<3.1.0,>=3.0.2 in /usr/local/lib/python3.6/dist-packages (from requests->smart-open>=1.2.1->gensim) (3.0.4)\n",
      "Requirement already satisfied: certifi>=2017.4.17 in /usr/local/lib/python3.6/dist-packages (from requests->smart-open>=1.2.1->gensim) (2018.4.16)\n",
      "Requirement already satisfied: docutils>=0.10 in /usr/local/lib/python3.6/dist-packages (from botocore<1.11.0,>=1.10.29->boto3->smart-open>=1.2.1->gensim) (0.14)\n",
      "Requirement already satisfied: python-dateutil<3.0.0,>=2.1; python_version >= \"2.7\" in /usr/local/lib/python3.6/dist-packages (from botocore<1.11.0,>=1.10.29->boto3->smart-open>=1.2.1->gensim) (2.5.3)\n"
     ]
    }
   ],
   "source": [
    "!pip install gensim"
   ]
  },
  {
   "cell_type": "code",
   "execution_count": 2,
   "metadata": {
    "colab": {
     "autoexec": {
      "startup": false,
      "wait_interval": 0
     }
    },
    "colab_type": "code",
    "collapsed": false,
    "id": "Zl2iKEqBt8Y3"
   },
   "outputs": [
    {
     "name": "stderr",
     "output_type": "stream",
     "text": [
      "/Library/Frameworks/Python.framework/Versions/3.6/lib/python3.6/importlib/_bootstrap.py:205: RuntimeWarning: compiletime version 3.5 of module 'tensorflow.python.framework.fast_tensor_util' does not match runtime version 3.6\n",
      "  return f(*args, **kwds)\n",
      "/Users/macos/Library/Python/3.6/lib/python/site-packages/h5py/__init__.py:36: FutureWarning: Conversion of the second argument of issubdtype from `float` to `np.floating` is deprecated. In future, it will be treated as `np.float64 == np.dtype(float).type`.\n",
      "  from ._conv import register_converters as _register_converters\n"
     ]
    }
   ],
   "source": [
    "import numpy as np\n",
    "import tensorflow as tf"
   ]
  },
  {
   "cell_type": "code",
   "execution_count": 4,
   "metadata": {
    "colab": {
     "autoexec": {
      "startup": false,
      "wait_interval": 0
     }
    },
    "colab_type": "code",
    "collapsed": false,
    "id": "nIaVhBY3t8bh"
   },
   "outputs": [],
   "source": [
    "import gensim\n",
    "\n",
    "model = gensim.models.KeyedVectors.load_word2vec_format('/Users/macos/Desktop/School/20172/Project 2/GoogleNews-vectors-negative300.bin', binary=True)"
   ]
  },
  {
   "cell_type": "code",
   "execution_count": 5,
   "metadata": {
    "colab": {
     "autoexec": {
      "startup": false,
      "wait_interval": 0
     },
     "base_uri": "https://localhost:8080/",
     "height": 72
    },
    "colab_type": "code",
    "collapsed": false,
    "executionInfo": {
     "elapsed": 816,
     "status": "ok",
     "timestamp": 1527686791833,
     "user": {
      "displayName": "Nguyễn Thành Hậu",
      "photoUrl": "https://lh3.googleusercontent.com/a/default-user=s128",
      "userId": "104616497617342567774"
     },
     "user_tz": -420
    },
    "id": "jImCto7Gt8eA",
    "outputId": "7e86e548-c736-4271-922d-ed15b5f6f73c"
   },
   "outputs": [],
   "source": [
    "vocab = model.wv.vocab"
   ]
  },
  {
   "cell_type": "code",
   "execution_count": 6,
   "metadata": {
    "colab": {
     "autoexec": {
      "startup": false,
      "wait_interval": 0
     }
    },
    "colab_type": "code",
    "collapsed": true,
    "id": "0NSjAKgEt8gq"
   },
   "outputs": [],
   "source": [
    "def preprocess_sentence(sentence):\n",
    "    marks = ['.', ',', '\\n', '?', '!', '-', '(', ')', '/']\n",
    "    for mark in marks:\n",
    "        sentence = sentence.replace(mark, '')\n",
    "    return sentence"
   ]
  },
  {
   "cell_type": "code",
   "execution_count": 7,
   "metadata": {
    "colab": {
     "autoexec": {
      "startup": false,
      "wait_interval": 0
     }
    },
    "colab_type": "code",
    "collapsed": true,
    "id": "pMoR5oEFt8jc"
   },
   "outputs": [],
   "source": [
    "def get_lines_from_file(file_path):\n",
    "    file  = open(file_path, 'r')\n",
    "    lines = file.readlines()\n",
    "    \n",
    "    for i in range(len(lines)):\n",
    "        lines[i] = preprocess_sentence(lines[i])\n",
    "    return lines"
   ]
  },
  {
   "cell_type": "code",
   "execution_count": 8,
   "metadata": {
    "colab": {
     "autoexec": {
      "startup": false,
      "wait_interval": 0
     }
    },
    "colab_type": "code",
    "collapsed": true,
    "id": "K3O3wFoiu6-6"
   },
   "outputs": [],
   "source": [
    "def get_sentence_vector(sentence):\n",
    "    sentence_vector = []\n",
    "    tokens = set(sentence.split(' '))\n",
    "    for token in tokens:\n",
    "        if token in vocab:\n",
    "           sentence_vector.append(model[token])\n",
    "    return sentence_vector"
   ]
  },
  {
   "cell_type": "code",
   "execution_count": 9,
   "metadata": {
    "colab": {
     "autoexec": {
      "startup": false,
      "wait_interval": 0
     }
    },
    "colab_type": "code",
    "collapsed": true,
    "id": "yYtkGYtju7Bl"
   },
   "outputs": [],
   "source": [
    "def get_train_data(file):\n",
    "    train_data = []\n",
    "    lines = get_lines_from_file(file)\n",
    "    for line in lines:\n",
    "        train_data.append(get_sentence_vector(line))\n",
    "    return train_data"
   ]
  },
  {
   "cell_type": "code",
   "execution_count": 10,
   "metadata": {
    "colab": {
     "autoexec": {
      "startup": false,
      "wait_interval": 0
     }
    },
    "colab_type": "code",
    "collapsed": true,
    "id": "V13ksx24u7EO"
   },
   "outputs": [],
   "source": [
    "# To support both python 2 and python 3\n",
    "from __future__ import division, print_function, unicode_literals\n",
    "\n",
    "# Common imports\n",
    "import numpy as np\n",
    "import os\n",
    "\n",
    "# to make this notebook's output stable across runs\n",
    "def reset_graph(seed=42):\n",
    "    tf.reset_default_graph()\n",
    "    tf.set_random_seed(seed)\n",
    "    np.random.seed(seed)\n",
    "\n",
    "# To plot pretty figures\n",
    "%matplotlib inline\n",
    "import matplotlib\n",
    "import matplotlib.pyplot as plt\n",
    "plt.rcParams['axes.labelsize'] = 14\n",
    "plt.rcParams['xtick.labelsize'] = 12\n",
    "plt.rcParams['ytick.labelsize'] = 12\n",
    "\n",
    "# Where to save the figures\n",
    "PROJECT_ROOT_DIR = \".\"\n",
    "CHAPTER_ID = \"rnn\"\n",
    "\n",
    "def save_fig(fig_id, tight_layout=True):\n",
    "    path = os.path.join(PROJECT_ROOT_DIR, \"images\", CHAPTER_ID, fig_id + \".png\")\n",
    "    print(\"Saving figure\", fig_id)\n",
    "    if tight_layout:\n",
    "        plt.tight_layout()\n",
    "    plt.savefig(path, format='png', dpi=300)"
   ]
  },
  {
   "cell_type": "code",
   "execution_count": 11,
   "metadata": {
    "colab": {
     "autoexec": {
      "startup": false,
      "wait_interval": 0
     }
    },
    "colab_type": "code",
    "collapsed": true,
    "id": "0BJQkPWvu7G5"
   },
   "outputs": [],
   "source": [
    "N_INPUTS = 300\n",
    "CONTEXT_SIZE = 5\n",
    "N_UNITS = 1024\n",
    "N_CLASSES = 300\n",
    "BATCH_SIZE = 32\n",
    "N_RNN_LAYERS = 3"
   ]
  },
  {
   "cell_type": "code",
   "execution_count": 12,
   "metadata": {
    "colab": {
     "autoexec": {
      "startup": false,
      "wait_interval": 0
     }
    },
    "colab_type": "code",
    "collapsed": true,
    "id": "r9A93C0dY5b9"
   },
   "outputs": [],
   "source": [
    "def get_sequence_length(X):\n",
    "    sequence_length = []\n",
    "    for s in range(np.shape(X)[0]):\n",
    "        sequence_length = np.insert(arr=sequence_length, obj=s, values=int(np.shape(X[s])[0]), axis=0)\n",
    "    return sequence_length"
   ]
  },
  {
   "cell_type": "code",
   "execution_count": 13,
   "metadata": {
    "colab": {
     "autoexec": {
      "startup": false,
      "wait_interval": 0
     }
    },
    "colab_type": "code",
    "collapsed": true,
    "id": "v7kl3T7Cu7JK"
   },
   "outputs": [],
   "source": [
    "# path = './drive/test1.txt'\n",
    "# train_data = get_train_data(path)\n",
    "# test_path = './drive/input_test.txt'\n",
    "# test_data = get_train_data(test_path)\n",
    "\n",
    "path = '/Users/macos/Desktop/School/20172/Project 2/training_sentence.txt'\n",
    "train_data = get_train_data(path)\n",
    "# test_path = '/Users/macos/Desktop/School/20172/Project 2/test_sentence.txt'\n",
    "test_path = '/Users/macos/Desktop/School/20172/Project 2/test/test_result.txt'\n",
    "test_data = get_train_data(test_path)"
   ]
  },
  {
   "cell_type": "code",
   "execution_count": 14,
   "metadata": {
    "colab": {
     "autoexec": {
      "startup": false,
      "wait_interval": 0
     },
     "base_uri": "https://localhost:8080/",
     "height": 35
    },
    "colab_type": "code",
    "collapsed": false,
    "executionInfo": {
     "elapsed": 921,
     "status": "ok",
     "timestamp": 1527686806987,
     "user": {
      "displayName": "Nguyễn Thành Hậu",
      "photoUrl": "https://lh3.googleusercontent.com/a/default-user=s128",
      "userId": "104616497617342567774"
     },
     "user_tz": -420
    },
    "id": "cd7d-XqTwGcx",
    "outputId": "60daaeb7-d431-4fa6-94ab-6f2b568fb05b"
   },
   "outputs": [
    {
     "name": "stdout",
     "output_type": "stream",
     "text": [
      "45.0\n"
     ]
    }
   ],
   "source": [
    "MAX_LENGTH = np.max(get_sequence_length(train_data))\n",
    "\n",
    "print(MAX_LENGTH)"
   ]
  },
  {
   "cell_type": "code",
   "execution_count": 15,
   "metadata": {
    "colab": {
     "autoexec": {
      "startup": false,
      "wait_interval": 0
     }
    },
    "colab_type": "code",
    "collapsed": true,
    "id": "jPOhzuRAY0uy"
   },
   "outputs": [],
   "source": [
    "def pad_zero_into_X(X):\n",
    "    for i in range(len(X)):\n",
    "        y = np.zeros(dtype=float, shape=(int(MAX_LENGTH-len(X[i])), N_INPUTS))\n",
    "        X[i] = np.concatenate((X[i], y), axis=0)\n",
    "    return X"
   ]
  },
  {
   "cell_type": "code",
   "execution_count": 16,
   "metadata": {
    "colab": {
     "autoexec": {
      "startup": false,
      "wait_interval": 0
     }
    },
    "colab_type": "code",
    "collapsed": true,
    "id": "D9wA01pPY2Ja"
   },
   "outputs": [],
   "source": [
    "def pad_zero_into_y(y):\n",
    "    for i in range(len(y)):\n",
    "        z = np.zeros(dtype=float, shape=(int(MAX_LENGTH-len(y[i]))))\n",
    "        y[i] = np.concatenate((y[i], z), axis=0)\n",
    "    return y"
   ]
  },
  {
   "cell_type": "code",
   "execution_count": 17,
   "metadata": {
    "colab": {
     "autoexec": {
      "startup": false,
      "wait_interval": 0
     }
    },
    "colab_type": "code",
    "collapsed": true,
    "id": "B0sE74luf35D"
   },
   "outputs": [],
   "source": [
    "def length(sequence):\n",
    "    used = tf.sign(tf.reduce_max(tf.abs(sequence), 2))\n",
    "    length = tf.reduce_sum(used, 1)\n",
    "    length = tf.cast(length, tf.int32)\n",
    "    return length"
   ]
  },
  {
   "cell_type": "code",
   "execution_count": 18,
   "metadata": {
    "colab": {
     "autoexec": {
      "startup": false,
      "wait_interval": 0
     }
    },
    "colab_type": "code",
    "collapsed": true,
    "id": "dpau4tXQf6c4"
   },
   "outputs": [],
   "source": [
    "def _weight_and_bias(in_size, out_size):\n",
    "    weight = tf.truncated_normal([in_size, out_size], stddev=0.01)\n",
    "    bias = tf.constant(0.1, shape=[out_size])\n",
    "    return tf.Variable(weight), tf.Variable(bias)"
   ]
  },
  {
   "cell_type": "code",
   "execution_count": 19,
   "metadata": {
    "colab": {
     "autoexec": {
      "startup": false,
      "wait_interval": 0
     }
    },
    "colab_type": "code",
    "collapsed": true,
    "id": "DYp8vHUArikl"
   },
   "outputs": [],
   "source": [
    "def get_X_y_from_data(train_data):\n",
    "    X = pad_zero_into_X(train_data)\n",
    "    y = []\n",
    "    for x in train_data:\n",
    "        yi = [x[i+1] for i in range(np.shape(x)[0] - 1)]\n",
    "        z = np.zeros(shape=(1, N_INPUTS))\n",
    "        yi = np.concatenate((yi, z), axis=0)\n",
    "        \n",
    "        y.append(yi)\n",
    "    return X, y    "
   ]
  },
  {
   "cell_type": "code",
   "execution_count": 20,
   "metadata": {
    "colab": {
     "autoexec": {
      "startup": false,
      "wait_interval": 0
     },
     "base_uri": "https://localhost:8080/",
     "height": 35
    },
    "colab_type": "code",
    "collapsed": false,
    "executionInfo": {
     "elapsed": 2156,
     "status": "ok",
     "timestamp": 1527686815210,
     "user": {
      "displayName": "Nguyễn Thành Hậu",
      "photoUrl": "https://lh3.googleusercontent.com/a/default-user=s128",
      "userId": "104616497617342567774"
     },
     "user_tz": -420
    },
    "id": "wysBbW00txfb",
    "outputId": "7d349c2a-7368-4088-8f06-74ef2cae35a0"
   },
   "outputs": [
    {
     "name": "stdout",
     "output_type": "stream",
     "text": [
      "(12, 300)\n"
     ]
    }
   ],
   "source": [
    "print(np.shape(train_data[0]))\n",
    "train_x, train_y = get_X_y_from_data(train_data)\n",
    "test_x, test_y = get_X_y_from_data(test_data)"
   ]
  },
  {
   "cell_type": "code",
   "execution_count": 21,
   "metadata": {
    "colab": {
     "autoexec": {
      "startup": false,
      "wait_interval": 0
     }
    },
    "colab_type": "code",
    "collapsed": true,
    "id": "JoaY4CtB004L"
   },
   "outputs": [],
   "source": [
    "def get_batch(i):\n",
    "    X_batch = [train_x[j] for j in range(i*BATCH_SIZE, (i + 1) * BATCH_SIZE)]\n",
    "    y_batch = [train_y[j] for j in range(i*BATCH_SIZE, (i + 1) * BATCH_SIZE)]\n",
    "    return np.array(X_batch), np.array(y_batch)"
   ]
  },
  {
   "cell_type": "code",
   "execution_count": 22,
   "metadata": {
    "colab": {
     "autoexec": {
      "startup": false,
      "wait_interval": 0
     }
    },
    "colab_type": "code",
    "collapsed": true,
    "id": "72igI_HT1Lhq"
   },
   "outputs": [],
   "source": [
    "def shuffle(X, y):\n",
    "    X = np.array(X)\n",
    "    y = np.array(y)\n",
    "    a = [i for i in range(np.shape(X)[0])]\n",
    "    np.random.shuffle(a)\n",
    "    return X[a], y[a]"
   ]
  },
  {
   "cell_type": "code",
   "execution_count": 23,
   "metadata": {
    "colab": {
     "autoexec": {
      "startup": false,
      "wait_interval": 0
     }
    },
    "colab_type": "code",
    "collapsed": true,
    "id": "iB5dgA9LvvWs"
   },
   "outputs": [],
   "source": [
    "def get_max_index(arr):\n",
    "    arr = np.reshape(arr, newshape=[-1, 4])\n",
    "    m = np.max(arr, axis=1, keepdims=True)\n",
    "    one_hot = arr // m\n",
    "    result = np.argmax(one_hot, axis=1)\n",
    "    return result"
   ]
  },
  {
   "cell_type": "code",
   "execution_count": 24,
   "metadata": {
    "colab": {
     "autoexec": {
      "startup": false,
      "wait_interval": 0
     }
    },
    "colab_type": "code",
    "collapsed": true,
    "id": "Wr8ROhQ5u7L2"
   },
   "outputs": [],
   "source": [
    "# build RNN like speech recognition\n",
    "\n",
    "reset_graph()\n",
    "\n",
    "X = tf.placeholder(tf.float32, shape=[None, MAX_LENGTH, N_INPUTS], name='X')\n",
    "y = tf.placeholder(tf.float32, shape=[None, MAX_LENGTH, N_INPUTS], name='y')\n",
    "\n",
    "keep_prob = tf.placeholder_with_default(1.0, shape=(), name='keep_prob')\n",
    "\n",
    "# them placeholder vi tri cua tu de du doan tu khi test\n",
    "\n",
    "lstm_cells = [tf.contrib.rnn.BasicLSTMCell(num_units=N_UNITS) for layer in range(N_RNN_LAYERS)]\n",
    "lstm_cells_drop = [tf.contrib.rnn.DropoutWrapper(cell, input_keep_prob=keep_prob)\n",
    "              for cell in lstm_cells]\n",
    "multi_cell = tf.contrib.rnn.MultiRNNCell(lstm_cells_drop)\n",
    "\n",
    "outputs, states = tf.nn.dynamic_rnn(multi_cell, X, dtype=tf.float32, sequence_length=length(X))\n",
    "\n",
    "#### predict\n",
    "weight, bias = _weight_and_bias(N_UNITS, N_CLASSES)\n",
    "\n",
    "# Flatten to apply same weights to all time steps.\n",
    "outputs = tf.reshape(outputs, [-1, N_UNITS])\n",
    "\n",
    "prediction = tf.matmul(outputs, weight) + bias\n",
    "prediction = tf.reshape(prediction, [-1, tf.cast(MAX_LENGTH, tf.int32), N_CLASSES])\n",
    "\n",
    "loss = tf.losses.mean_squared_error(y, prediction)\n",
    "\n",
    "\n",
    "#### optimizer\n",
    "optimizer = tf.train.AdamOptimizer(0.001)\n",
    "\n",
    "training_op = optimizer.minimize(loss)\n",
    "\n",
    "init = tf.global_variables_initializer()\n",
    "saver = tf.train.Saver()"
   ]
  },
  {
   "cell_type": "code",
   "execution_count": null,
   "metadata": {
    "collapsed": true
   },
   "outputs": [],
   "source": [
    "\n",
    "n_epochsn_epochs = 30\n",
    "\n",
    "with tf.Session() as sess:\n",
    "    init.run()\n",
    "    arr_test_loss = []\n",
    "#     for epoch in range(n_epochs):\n",
    "#         train_x, train_y = shuffle(train_x, train_y)\n",
    "#         for iteration in range(np.shape(train_x)[0] // BATCH_SIZE):\n",
    "#             #all vector in a sentence are in a batch, may be make it different by concatenate all sentences\n",
    "#             X_batch, y_batch = get_batch(iteration)\n",
    "            \n",
    "#             sess.run(training_op, feed_dict={X: X_batch, y: y_batch})\n",
    "            \n",
    "#         train_loss_value = loss.eval(feed_dict={X: X_batch, y: y_batch})\n",
    "#         print(epoch, \" Train loss value:\", train_loss_value)\n",
    "#     for i in range(np.shape(test_x)[0]):\n",
    "#         xi = np.reshape(test_x[i], newshape = [-1, 45, 300])\n",
    "#         yi = np.reshape(test_y[i], newshape = [-1, 45, 300])\n",
    "#         test_loss = loss.eval(feed_dict={X: xi, y: yi})\n",
    "#         arr_test_loss.append(test_loss)\n",
    "\n",
    "    saver.restore(sess, \"/Users/macos/Desktop/School/20172/Project 2/model/rnn/test_model_rnn.ckpt\")\n",
    "    test_path = '/Users/macos/Desktop/School/20172/Project 2/test/test_result.txt'\n",
    "    test_x, test_y = get_X_y_from_data(test_data)\n",
    "    for i in range(np.shape(test_x)[0]):\n",
    "        xi = np.reshape(test_x[i], newshape = [-1, 45, 300])\n",
    "        yi = np.reshape(test_y[i], newshape = [-1, 45, 300])\n",
    "        test_loss = loss.eval(feed_dict={X: xi, y: yi})\n",
    "        arr_test_loss.append(test_loss)\n",
    "    dict = {0: 'A', 1: 'B', 2: 'C', 3: 'D'}\n",
    "    new_arr = 1 / np.array(arr_test_loss)\n",
    "    predict_answer = np.array(get_max_index(new_arr))\n",
    "    print(dict[predict_answer[0]])"
   ]
  },
  {
   "cell_type": "code",
   "execution_count": 33,
   "metadata": {
    "colab": {
     "autoexec": {
      "startup": false,
      "wait_interval": 0
     },
     "base_uri": "https://localhost:8080/",
     "height": 242
    },
    "colab_type": "code",
    "collapsed": true,
    "executionInfo": {
     "elapsed": 873,
     "status": "ok",
     "timestamp": 1527688745866,
     "user": {
      "displayName": "Nguyễn Thành Hậu",
      "photoUrl": "https://lh3.googleusercontent.com/a/default-user=s128",
      "userId": "104616497617342567774"
     },
     "user_tz": -420
    },
    "id": "FxY7ELO2-RW9",
    "outputId": "d79c39ed-1fda-4330-e20b-0fc2d4e974d8"
   },
   "outputs": [
    {
     "name": "stdout",
     "output_type": "stream",
     "text": [
      "[[[-0.01574707 -0.02832031  0.08349609 ...  0.00686646  0.06103516\n",
      "   -0.1484375 ]\n",
      "  [ 0.09912109 -0.09765625 -0.12353516 ... -0.17480469  0.04956055\n",
      "    0.09863281]\n",
      "  [ 0.109375    0.140625   -0.03173828 ...  0.00765991  0.12011719\n",
      "   -0.1796875 ]\n",
      "  ...\n",
      "  [ 0.          0.          0.         ...  0.          0.\n",
      "    0.        ]\n",
      "  [ 0.          0.          0.         ...  0.          0.\n",
      "    0.        ]\n",
      "  [ 0.          0.          0.         ...  0.          0.\n",
      "    0.        ]]]\n"
     ]
    }
   ],
   "source": [
    "print(test_x[0].reshape(-1, 45, 300))"
   ]
  },
  {
   "cell_type": "code",
   "execution_count": 0,
   "metadata": {
    "colab": {
     "autoexec": {
      "startup": false,
      "wait_interval": 0
     }
    },
    "colab_type": "code",
    "collapsed": true,
    "id": "kYO55t0xu7Qp"
   },
   "outputs": [],
   "source": [
    "arr_ans = np.load('./drive/arr_ans.npy')"
   ]
  },
  {
   "cell_type": "code",
   "execution_count": 0,
   "metadata": {
    "colab": {
     "autoexec": {
      "startup": false,
      "wait_interval": 0
     }
    },
    "colab_type": "code",
    "collapsed": true,
    "id": "G-E_KiTRu7Ty"
   },
   "outputs": [],
   "source": [
    "new_arr = 1 / np.array(arr_test_loss)\n",
    "predict_answer = np.array(get_max_index(new_arr))\n",
    "# print(predict_answer)"
   ]
  },
  {
   "cell_type": "code",
   "execution_count": 36,
   "metadata": {
    "colab": {
     "autoexec": {
      "startup": false,
      "wait_interval": 0
     },
     "base_uri": "https://localhost:8080/",
     "height": 35
    },
    "colab_type": "code",
    "collapsed": false,
    "executionInfo": {
     "elapsed": 920,
     "status": "ok",
     "timestamp": 1527688946562,
     "user": {
      "displayName": "Nguyễn Thành Hậu",
      "photoUrl": "https://lh3.googleusercontent.com/a/default-user=s128",
      "userId": "104616497617342567774"
     },
     "user_tz": -420
    },
    "id": "Ak6eun_dt8mW",
    "outputId": "26327c20-4b8e-4697-e6a2-625998d1fbf6"
   },
   "outputs": [
    {
     "name": "stdout",
     "output_type": "stream",
     "text": [
      "0.2663755458515284\n"
     ]
    }
   ],
   "source": [
    "print(np.sum(arr_ans == predict_answer) / np.shape(arr_ans)[0])"
   ]
  },
  {
   "cell_type": "code",
   "execution_count": 0,
   "metadata": {
    "colab": {
     "autoexec": {
      "startup": false,
      "wait_interval": 0
     }
    },
    "colab_type": "code",
    "collapsed": true,
    "id": "JcafH6hewNOb"
   },
   "outputs": [],
   "source": []
  }
 ],
 "metadata": {
  "colab": {
   "collapsed_sections": [],
   "default_view": {},
   "name": "project2_RNN.ipynb",
   "provenance": [],
   "version": "0.3.2",
   "views": {}
  },
  "kernelspec": {
   "display_name": "Python 3",
   "language": "python",
   "name": "python3"
  },
  "language_info": {
   "codemirror_mode": {
    "name": "ipython",
    "version": 3
   },
   "file_extension": ".py",
   "mimetype": "text/x-python",
   "name": "python",
   "nbconvert_exporter": "python",
   "pygments_lexer": "ipython3",
   "version": "3.6.1"
  }
 },
 "nbformat": 4,
 "nbformat_minor": 0
}
